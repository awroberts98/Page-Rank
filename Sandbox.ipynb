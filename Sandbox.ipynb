{
 "cells": [
  {
   "cell_type": "code",
   "execution_count": 4,
   "id": "d9d1d6e0-7352-40b3-a91a-3617de3f3570",
   "metadata": {},
   "outputs": [
    {
     "name": "stdout",
     "output_type": "stream",
     "text": [
      "[[0.  0.  0.  0.  0.  0.  0.  0.  0.  0.  0.  0.  0.5 0. ]\n",
      " [0.5 0.  0.  0.  0.  0.  0.  0.  0.  0.  0.  0.  0.  0. ]\n",
      " [0.5 0.  0.  0.5 0.  0.  0.  0.  0.  0.  0.  0.  0.  0. ]\n",
      " [0.  0.  0.  0.  0.  0.5 0.  0.  0.  0.  0.  0.  0.  0. ]\n",
      " [0.  0.  1.  0.5 0.  0.  0.5 0.  0.  0.  0.  0.  0.  0. ]\n",
      " [0.  0.  0.  0.5 1.  0.  0.  0.  0.  0.  0.  0.  0.  0. ]\n",
      " [0.  0.  0.  0.  0.  0.5 0.  0.  0.  0.  0.  0.  0.  0. ]\n",
      " [0.  0.  0.  0.  0.  0.  0.5 0.  0.5 0.  0.  0.  0.  0. ]\n",
      " [0.  0.  0.  0.  0.  0.  0.  1.  0.  0.5 0.  0.  0.  0. ]\n",
      " [0.  0.  0.  0.  0.  0.  0.  0.  0.5 0.  0.  0.5 0.  0. ]\n",
      " [0.  0.  0.  0.  0.  0.  0.  0.  0.5 0.5 0.  0.  0.  0. ]\n",
      " [0.  0.  0.  0.  0.  0.  0.  0.  0.  0.  1.  0.  0.5 0. ]\n",
      " [0.  0.  0.  0.  0.  0.  0.  0.  0.  0.  0.  0.  0.  1. ]\n",
      " [0.  0.  0.  0.  0.  0.  0.  0.  0.  0.  0.  0.5 0.5 0. ]]\n",
      "[0.08333175 0.04613028 0.08320069 0.08722451 0.15557571 0.18002405\n",
      " 0.08722451 0.14105883 0.21946854 0.20906882 0.19284267 0.24724801\n",
      " 0.17086462 0.18841215]\n"
     ]
    }
   ],
   "source": [
    "import numpy as np\n",
    "from numpy import random\n",
    "import pandas as pd\n",
    "toy = pd.read_csv('toy_graph.csv', sep=',', header=None)\n",
    "#print(df.values)\n",
    "def pagerank(M, d: float = 0.85):\n",
    "    \"\"\"PageRank algorithm with explicit number of iterations. Returns ranking of nodes (pages) in the adjacency matrix.\n",
    "\n",
    "    Parameters\n",
    "    ----------\n",
    "    M : numpy array\n",
    "        adjacency matrix where M_i,j represents the link from 'j' to 'i', such that for all 'j'\n",
    "        sum(i, M_i,j) = 1\n",
    "    d : float, optional\n",
    "        damping factor, by default 0.85\n",
    "\n",
    "    Returns\n",
    "    -------\n",
    "    numpy array\n",
    "        a vector of ranks such that v_i is the i-th rank from [0, 1],\n",
    "\n",
    "    \"\"\"\n",
    "    N = M.shape[1]\n",
    "    w = np.ones(N) / N\n",
    "    M_hat = d * M\n",
    "    v = M_hat @ w + (1 - d) / N\n",
    "    while(np.linalg.norm(w - v) >= 1e-10):\n",
    "        w = v\n",
    "        v = M_hat @ w + (1 - d) / N\n",
    "    return v\n",
    "\n",
    "#Converting the csv to an adjacency matrix\n",
    "matrixsize = 0\n",
    "\n",
    "for i in range(len(toy.values)):\n",
    "    matrixsize = max(matrixsize,toy.values[i][1],toy.values[i][0])\n",
    "matrixsize+=1\n",
    "\n",
    "M = np.zeros((matrixsize, matrixsize))\n",
    "for i in range(len(toy.values)):\n",
    "    M[toy.values[i][0],toy.values[i][1]]=1\n",
    "\n",
    "#Making the columns add to 1\n",
    "N = M;\n",
    "for j in range(matrixsize):\n",
    "    z = 0;\n",
    "    for i in range(matrixsize):\n",
    "        if M[i][j] == 1:\n",
    "            z += 1;\n",
    "        for i in range(matrixsize):\n",
    "            if N[i][j] == 1 and z != 0:\n",
    "                N[i][j] = 1/z;\n",
    "        \n",
    "    \n",
    "    \n",
    "print(N)\n",
    "v = pagerank(N,0.85)\n",
    "print(v)"
   ]
  },
  {
   "cell_type": "code",
   "execution_count": null,
   "id": "238d8a48-d4e1-40d4-9987-b14560e56c6b",
   "metadata": {},
   "outputs": [],
   "source": []
  }
 ],
 "metadata": {
  "kernelspec": {
   "display_name": "Python 3 (ipykernel)",
   "language": "python",
   "name": "python3"
  },
  "language_info": {
   "codemirror_mode": {
    "name": "ipython",
    "version": 3
   },
   "file_extension": ".py",
   "mimetype": "text/x-python",
   "name": "python",
   "nbconvert_exporter": "python",
   "pygments_lexer": "ipython3",
   "version": "3.13.3"
  }
 },
 "nbformat": 4,
 "nbformat_minor": 5
}
